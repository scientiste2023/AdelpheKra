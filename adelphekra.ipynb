{
 "cells": [
  {
   "cell_type": "code",
   "execution_count": 4,
   "id": "fa5f0de5",
   "metadata": {},
   "outputs": [
    {
     "name": "stdout",
     "output_type": "stream",
     "text": [
      "entrer un nombre: 4\n"
     ]
    },
    {
     "data": {
      "text/plain": [
       "4"
      ]
     },
     "execution_count": 4,
     "metadata": {},
     "output_type": "execute_result"
    }
   ],
   "source": [
    "# exercice 1.1 ecrire une fonction qui retourne la factorielle d'un nombre entier \n",
    "nombre=int(input(\"entrer un nombre: \"))\n",
    "\n",
    "def factorielle(a):\n",
    "    a=nombre\n",
    "    for i in range(1,nombre):\n",
    "        a=a*(nombre-i)\n",
    "    return a\n",
    "factorielle(nombre)"
   ]
  },
  {
   "cell_type": "code",
   "execution_count": 11,
   "id": "ce5085ca",
   "metadata": {},
   "outputs": [
    {
     "name": "stdout",
     "output_type": "stream",
     "text": [
      "entrer un entier: 10\n",
      "[1, 3, 5, 7, 9]\n"
     ]
    }
   ],
   "source": [
    "#exercice 1.2\n",
    "nombre=int(input(\"entrer un entier: \"))\n",
    "def impaire(a):\n",
    "    i=1\n",
    "    liste_1=[]\n",
    "    while i<=a:\n",
    "        if i%2!=0:\n",
    "            liste_1.append(i)\n",
    "        i+=1\n",
    "    return liste_1\n",
    "s=impaire(nombre)\n",
    "print(s)"
   ]
  },
  {
   "cell_type": "code",
   "execution_count": 64,
   "id": "473e8f24",
   "metadata": {},
   "outputs": [
    {
     "data": {
      "text/plain": [
       "[10, 17, 25, 38, 72]"
      ]
     },
     "execution_count": 64,
     "metadata": {},
     "output_type": "execute_result"
    }
   ],
   "source": [
    "#exercice1.3\n",
    "# trier et afficher\n",
    "liste=[17,38,10,25,72]\n",
    "liste.sort()\n",
    "liste"
   ]
  },
  {
   "cell_type": "code",
   "execution_count": 65,
   "id": "8bb20cb4",
   "metadata": {},
   "outputs": [
    {
     "data": {
      "text/plain": [
       "[10, 17, 25, 38, 72, 12]"
      ]
     },
     "execution_count": 65,
     "metadata": {},
     "output_type": "execute_result"
    }
   ],
   "source": [
    "# ajouter element 12\n",
    "liste.append(12)\n",
    "liste"
   ]
  },
  {
   "cell_type": "code",
   "execution_count": 66,
   "id": "c0393409",
   "metadata": {},
   "outputs": [
    {
     "data": {
      "text/plain": [
       "[12, 72, 38, 25, 17, 10]"
      ]
     },
     "execution_count": 66,
     "metadata": {},
     "output_type": "execute_result"
    }
   ],
   "source": [
    "# renverser la liste et afficher\n",
    "liste.reverse()\n",
    "liste"
   ]
  },
  {
   "cell_type": "code",
   "execution_count": 67,
   "id": "2587240f",
   "metadata": {},
   "outputs": [
    {
     "data": {
      "text/plain": [
       "6"
      ]
     },
     "execution_count": 67,
     "metadata": {},
     "output_type": "execute_result"
    }
   ],
   "source": [
    "# nombre d'elements de la liste \n",
    "len(liste)"
   ]
  },
  {
   "cell_type": "code",
   "execution_count": 68,
   "id": "0a62fd15",
   "metadata": {},
   "outputs": [
    {
     "data": {
      "text/plain": [
       "[12, 72, 25, 17, 10]"
      ]
     },
     "execution_count": 68,
     "metadata": {},
     "output_type": "execute_result"
    }
   ],
   "source": [
    "#supprimer l'element 38\n",
    "liste.remove(38)\n",
    "liste"
   ]
  },
  {
   "cell_type": "code",
   "execution_count": 69,
   "id": "7f1302e1",
   "metadata": {},
   "outputs": [
    {
     "data": {
      "text/plain": [
       "[72, 25]"
      ]
     },
     "execution_count": 69,
     "metadata": {},
     "output_type": "execute_result"
    }
   ],
   "source": [
    "# sclicing \n",
    "# la sous liste du deuxieme au troisieme element\n",
    "liste[1:3]"
   ]
  },
  {
   "cell_type": "code",
   "execution_count": 70,
   "id": "d5b6225e",
   "metadata": {},
   "outputs": [
    {
     "data": {
      "text/plain": [
       "[12, 72]"
      ]
     },
     "execution_count": 70,
     "metadata": {},
     "output_type": "execute_result"
    }
   ],
   "source": [
    "#afficher la sous liste du debut au deuxieme element\n",
    "liste[:2]"
   ]
  },
  {
   "cell_type": "code",
   "execution_count": 71,
   "id": "03e9e802",
   "metadata": {},
   "outputs": [
    {
     "data": {
      "text/plain": [
       "[25, 17, 10]"
      ]
     },
     "execution_count": 71,
     "metadata": {},
     "output_type": "execute_result"
    }
   ],
   "source": [
    "# afficher la sous liste du troisieme element à la fin de la liste\n",
    "liste[2:]"
   ]
  },
  {
   "cell_type": "code",
   "execution_count": 9,
   "id": "1dac0201",
   "metadata": {},
   "outputs": [
    {
     "name": "stdout",
     "output_type": "stream",
     "text": [
      "[1, 2, 5, 6, 7, 9, 8]\n"
     ]
    }
   ],
   "source": [
    "# ecrit une fonction qui supprime les doublons d'une liste\n",
    "liste_1=[1,1,2,2,5,6,7,9,6,8,8]\n",
    "liste_2=[]\n",
    "def unique(liste_1):\n",
    "    liste_2=[]\n",
    "    l=len(liste_1)\n",
    "    for i in range(1,l):\n",
    "        if liste_1[i] not in liste_2:\n",
    "            liste_2.append(liste_1[i])\n",
    "    return liste_2\n",
    "u=unique(liste_1)\n",
    "print(u)"
   ]
  },
  {
   "cell_type": "code",
   "execution_count": null,
   "id": "d0c5b800",
   "metadata": {},
   "outputs": [],
   "source": []
  }
 ],
 "metadata": {
  "kernelspec": {
   "display_name": "Python 3 (ipykernel)",
   "language": "python",
   "name": "python3"
  },
  "language_info": {
   "codemirror_mode": {
    "name": "ipython",
    "version": 3
   },
   "file_extension": ".py",
   "mimetype": "text/x-python",
   "name": "python",
   "nbconvert_exporter": "python",
   "pygments_lexer": "ipython3",
   "version": "3.10.9"
  }
 },
 "nbformat": 4,
 "nbformat_minor": 5
}
